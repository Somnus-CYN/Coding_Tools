{
 "cells": [
  {
   "cell_type": "markdown",
   "metadata": {},
   "source": [
    "[markdown基本语法](https://zhuanlan.zhihu.com/p/270716843)"
   ]
  }
 ],
 "metadata": {
  "language_info": {
   "name": "python"
  }
 },
 "nbformat": 4,
 "nbformat_minor": 2
}
